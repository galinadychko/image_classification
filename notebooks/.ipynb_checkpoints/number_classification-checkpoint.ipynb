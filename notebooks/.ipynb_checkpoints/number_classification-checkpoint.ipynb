{
 "cells": [
  {
   "cell_type": "markdown",
   "metadata": {},
   "source": [
    "<h1 align=\"center\"><font size=10> <font color=blue>K-NN classification <br/><font size=6> for handmade sample</font> <br/><font size=5><font color=black>using handwritten image transformation and sklearn library</font>\n",
    "***"
   ]
  },
  {
   "cell_type": "code",
   "execution_count": 1,
   "metadata": {},
   "outputs": [
    {
     "data": {
      "text/html": [
       "<script>requirejs.config({paths: { 'plotly': ['https://cdn.plot.ly/plotly-latest.min']},});if(!window.Plotly) {{require(['plotly'],function(plotly) {window.Plotly=plotly;});}}</script>"
      ],
      "text/vnd.plotly.v1+html": [
       "<script>requirejs.config({paths: { 'plotly': ['https://cdn.plot.ly/plotly-latest.min']},});if(!window.Plotly) {{require(['plotly'],function(plotly) {window.Plotly=plotly;});}}</script>"
      ]
     },
     "metadata": {},
     "output_type": "display_data"
    },
    {
     "name": "stderr",
     "output_type": "stream",
     "text": [
      "/home/administrator/anaconda3/lib/python3.6/site-packages/sklearn/cross_validation.py:41: DeprecationWarning:\n",
      "\n",
      "This module was deprecated in version 0.18 in favor of the model_selection module into which all the refactored classes and functions are moved. Also note that the interface of the new CV iterators are different from that of this module. This module will be removed in 0.20.\n",
      "\n"
     ]
    }
   ],
   "source": [
    "from export_libraries import *"
   ]
  },
  {
   "cell_type": "markdown",
   "metadata": {},
   "source": [
    "# Shortly about dataset"
   ]
  },
  {
   "cell_type": "markdown",
   "metadata": {},
   "source": [
    "Set the working directory"
   ]
  },
  {
   "cell_type": "code",
   "execution_count": 2,
   "metadata": {},
   "outputs": [],
   "source": [
    "project_path = os.path.abspath(os.pardir)"
   ]
  },
  {
   "cell_type": "markdown",
   "metadata": {},
   "source": [
    "Choose random pictures from the raw data"
   ]
  },
  {
   "cell_type": "code",
   "execution_count": 3,
   "metadata": {},
   "outputs": [
    {
     "data": {
      "application/vnd.plotly.v1+json": {
       "data": [
        {
         "marker": {
          "opacity": 0
         },
         "mode": "markers",
         "type": "scatter",
         "uid": "014d3174-ed34-11e8-a249-00dbdf5aac3f",
         "x": [
          0,
          800
         ],
         "y": [
          0,
          450
         ]
        }
       ],
       "layout": {
        "height": 450,
        "images": [
         {
          "layer": "below",
          "opacity": 1,
          "sizex": 800,
          "sizey": 450,
          "sizing": "stretch",
          "source": "https://raw.githubusercontent.com/galinadychko/image_classification/master/data/row/9.jpg",
          "x": 0,
          "xref": "x",
          "y": 450,
          "yref": "y"
         }
        ],
        "margin": {
         "b": 0,
         "l": 0,
         "r": 0,
         "t": 0
        },
        "width": 800,
        "xaxis": {
         "range": [
          0,
          800
         ],
         "visible": false
        },
        "yaxis": {
         "range": [
          0,
          450
         ],
         "scaleanchor": "x",
         "visible": false
        }
       }
      },
      "text/html": [
       "<div id=\"1bf73c36-eb38-49fd-a004-f253daeb5469\" style=\"height: 450.0px; width: 800.0px;\" class=\"plotly-graph-div\"></div><script type=\"text/javascript\">require([\"plotly\"], function(Plotly) { window.PLOTLYENV=window.PLOTLYENV || {};window.PLOTLYENV.BASE_URL=\"https://plot.ly\";Plotly.newPlot(\"1bf73c36-eb38-49fd-a004-f253daeb5469\", [{\"marker\": {\"opacity\": 0}, \"mode\": \"markers\", \"x\": [0, 800.0], \"y\": [0, 450.0], \"type\": \"scatter\", \"uid\": \"014d3174-ed34-11e8-a249-00dbdf5aac3f\"}], {\"height\": 450.0, \"images\": [{\"layer\": \"below\", \"opacity\": 1.0, \"sizex\": 800.0, \"sizey\": 450.0, \"sizing\": \"stretch\", \"source\": \"https://raw.githubusercontent.com/galinadychko/image_classification/master/data/row/9.jpg\", \"x\": 0, \"xref\": \"x\", \"y\": 450.0, \"yref\": \"y\"}], \"margin\": {\"b\": 0, \"l\": 0, \"r\": 0, \"t\": 0}, \"width\": 800.0, \"xaxis\": {\"range\": [0, 800.0], \"visible\": false}, \"yaxis\": {\"range\": [0, 450.0], \"scaleanchor\": \"x\", \"visible\": false}}, {\"showLink\": true, \"linkText\": \"Export to plot.ly\"})});</script>"
      ],
      "text/vnd.plotly.v1+html": [
       "<div id=\"1bf73c36-eb38-49fd-a004-f253daeb5469\" style=\"height: 450.0px; width: 800.0px;\" class=\"plotly-graph-div\"></div><script type=\"text/javascript\">require([\"plotly\"], function(Plotly) { window.PLOTLYENV=window.PLOTLYENV || {};window.PLOTLYENV.BASE_URL=\"https://plot.ly\";Plotly.newPlot(\"1bf73c36-eb38-49fd-a004-f253daeb5469\", [{\"marker\": {\"opacity\": 0}, \"mode\": \"markers\", \"x\": [0, 800.0], \"y\": [0, 450.0], \"type\": \"scatter\", \"uid\": \"014d3174-ed34-11e8-a249-00dbdf5aac3f\"}], {\"height\": 450.0, \"images\": [{\"layer\": \"below\", \"opacity\": 1.0, \"sizex\": 800.0, \"sizey\": 450.0, \"sizing\": \"stretch\", \"source\": \"https://raw.githubusercontent.com/galinadychko/image_classification/master/data/row/9.jpg\", \"x\": 0, \"xref\": \"x\", \"y\": 450.0, \"yref\": \"y\"}], \"margin\": {\"b\": 0, \"l\": 0, \"r\": 0, \"t\": 0}, \"width\": 800.0, \"xaxis\": {\"range\": [0, 800.0], \"visible\": false}, \"yaxis\": {\"range\": [0, 450.0], \"scaleanchor\": \"x\", \"visible\": false}}, {\"showLink\": true, \"linkText\": \"Export to plot.ly\"})});</script>"
      ]
     },
     "metadata": {},
     "output_type": "display_data"
    }
   ],
   "source": [
    "img_vizualisation(\"https://raw.githubusercontent.com/galinadychko/image_classification/master/data/row/9.jpg\")"
   ]
  },
  {
   "cell_type": "markdown",
   "metadata": {},
   "source": [
    "Chose random pictures from the cut images"
   ]
  },
  {
   "cell_type": "code",
   "execution_count": 4,
   "metadata": {},
   "outputs": [],
   "source": [
    "n=np.random.choice(os.listdir(project_path+\"/data/cut_number\"), 3, replace=False)"
   ]
  },
  {
   "cell_type": "code",
   "execution_count": 5,
   "metadata": {},
   "outputs": [
    {
     "data": {
      "application/vnd.plotly.v1+json": {
       "data": [
        {
         "marker": {
          "opacity": 0
         },
         "mode": "markers",
         "type": "scatter",
         "uid": "05f566b0-ed34-11e8-a249-00dbdf5aac3f",
         "x": [
          0,
          800
         ],
         "y": [
          0,
          450
         ]
        }
       ],
       "layout": {
        "height": 450,
        "images": [
         {
          "layer": "below",
          "opacity": 1,
          "sizex": 800,
          "sizey": 450,
          "sizing": "stretch",
          "source": "https://raw.githubusercontent.com/galinadychko/image_classification/master/data/cut_number/9/9.png",
          "x": 0,
          "xref": "x",
          "y": 450,
          "yref": "y"
         }
        ],
        "margin": {
         "b": 0,
         "l": 0,
         "r": 0,
         "t": 0
        },
        "width": 800,
        "xaxis": {
         "range": [
          0,
          800
         ],
         "visible": false
        },
        "yaxis": {
         "range": [
          0,
          450
         ],
         "scaleanchor": "x",
         "visible": false
        }
       }
      },
      "text/html": [
       "<div id=\"add4a45b-57e0-4781-9851-d08e8835dd6f\" style=\"height: 450.0px; width: 800.0px;\" class=\"plotly-graph-div\"></div><script type=\"text/javascript\">require([\"plotly\"], function(Plotly) { window.PLOTLYENV=window.PLOTLYENV || {};window.PLOTLYENV.BASE_URL=\"https://plot.ly\";Plotly.newPlot(\"add4a45b-57e0-4781-9851-d08e8835dd6f\", [{\"marker\": {\"opacity\": 0}, \"mode\": \"markers\", \"x\": [0, 800.0], \"y\": [0, 450.0], \"type\": \"scatter\", \"uid\": \"05f566b0-ed34-11e8-a249-00dbdf5aac3f\"}], {\"height\": 450.0, \"images\": [{\"layer\": \"below\", \"opacity\": 1.0, \"sizex\": 800.0, \"sizey\": 450.0, \"sizing\": \"stretch\", \"source\": \"https://raw.githubusercontent.com/galinadychko/image_classification/master/data/cut_number/9/9.png\", \"x\": 0, \"xref\": \"x\", \"y\": 450.0, \"yref\": \"y\"}], \"margin\": {\"b\": 0, \"l\": 0, \"r\": 0, \"t\": 0}, \"width\": 800.0, \"xaxis\": {\"range\": [0, 800.0], \"visible\": false}, \"yaxis\": {\"range\": [0, 450.0], \"scaleanchor\": \"x\", \"visible\": false}}, {\"showLink\": true, \"linkText\": \"Export to plot.ly\"})});</script>"
      ],
      "text/vnd.plotly.v1+html": [
       "<div id=\"add4a45b-57e0-4781-9851-d08e8835dd6f\" style=\"height: 450.0px; width: 800.0px;\" class=\"plotly-graph-div\"></div><script type=\"text/javascript\">require([\"plotly\"], function(Plotly) { window.PLOTLYENV=window.PLOTLYENV || {};window.PLOTLYENV.BASE_URL=\"https://plot.ly\";Plotly.newPlot(\"add4a45b-57e0-4781-9851-d08e8835dd6f\", [{\"marker\": {\"opacity\": 0}, \"mode\": \"markers\", \"x\": [0, 800.0], \"y\": [0, 450.0], \"type\": \"scatter\", \"uid\": \"05f566b0-ed34-11e8-a249-00dbdf5aac3f\"}], {\"height\": 450.0, \"images\": [{\"layer\": \"below\", \"opacity\": 1.0, \"sizex\": 800.0, \"sizey\": 450.0, \"sizing\": \"stretch\", \"source\": \"https://raw.githubusercontent.com/galinadychko/image_classification/master/data/cut_number/9/9.png\", \"x\": 0, \"xref\": \"x\", \"y\": 450.0, \"yref\": \"y\"}], \"margin\": {\"b\": 0, \"l\": 0, \"r\": 0, \"t\": 0}, \"width\": 800.0, \"xaxis\": {\"range\": [0, 800.0], \"visible\": false}, \"yaxis\": {\"range\": [0, 450.0], \"scaleanchor\": \"x\", \"visible\": false}}, {\"showLink\": true, \"linkText\": \"Export to plot.ly\"})});</script>"
      ]
     },
     "metadata": {},
     "output_type": "display_data"
    },
    {
     "data": {
      "application/vnd.plotly.v1+json": {
       "data": [
        {
         "marker": {
          "opacity": 0
         },
         "mode": "markers",
         "type": "scatter",
         "uid": "05fd8818-ed34-11e8-a249-00dbdf5aac3f",
         "x": [
          0,
          800
         ],
         "y": [
          0,
          450
         ]
        }
       ],
       "layout": {
        "height": 450,
        "images": [
         {
          "layer": "below",
          "opacity": 1,
          "sizex": 800,
          "sizey": 450,
          "sizing": "stretch",
          "source": "https://raw.githubusercontent.com/galinadychko/image_classification/master/data/cut_number/8/8.png",
          "x": 0,
          "xref": "x",
          "y": 450,
          "yref": "y"
         }
        ],
        "margin": {
         "b": 0,
         "l": 0,
         "r": 0,
         "t": 0
        },
        "width": 800,
        "xaxis": {
         "range": [
          0,
          800
         ],
         "visible": false
        },
        "yaxis": {
         "range": [
          0,
          450
         ],
         "scaleanchor": "x",
         "visible": false
        }
       }
      },
      "text/html": [
       "<div id=\"5f5e5bd3-24c8-43ce-aeaa-0c68190496f2\" style=\"height: 450.0px; width: 800.0px;\" class=\"plotly-graph-div\"></div><script type=\"text/javascript\">require([\"plotly\"], function(Plotly) { window.PLOTLYENV=window.PLOTLYENV || {};window.PLOTLYENV.BASE_URL=\"https://plot.ly\";Plotly.newPlot(\"5f5e5bd3-24c8-43ce-aeaa-0c68190496f2\", [{\"marker\": {\"opacity\": 0}, \"mode\": \"markers\", \"x\": [0, 800.0], \"y\": [0, 450.0], \"type\": \"scatter\", \"uid\": \"05fd8818-ed34-11e8-a249-00dbdf5aac3f\"}], {\"height\": 450.0, \"images\": [{\"layer\": \"below\", \"opacity\": 1.0, \"sizex\": 800.0, \"sizey\": 450.0, \"sizing\": \"stretch\", \"source\": \"https://raw.githubusercontent.com/galinadychko/image_classification/master/data/cut_number/8/8.png\", \"x\": 0, \"xref\": \"x\", \"y\": 450.0, \"yref\": \"y\"}], \"margin\": {\"b\": 0, \"l\": 0, \"r\": 0, \"t\": 0}, \"width\": 800.0, \"xaxis\": {\"range\": [0, 800.0], \"visible\": false}, \"yaxis\": {\"range\": [0, 450.0], \"scaleanchor\": \"x\", \"visible\": false}}, {\"showLink\": true, \"linkText\": \"Export to plot.ly\"})});</script>"
      ],
      "text/vnd.plotly.v1+html": [
       "<div id=\"5f5e5bd3-24c8-43ce-aeaa-0c68190496f2\" style=\"height: 450.0px; width: 800.0px;\" class=\"plotly-graph-div\"></div><script type=\"text/javascript\">require([\"plotly\"], function(Plotly) { window.PLOTLYENV=window.PLOTLYENV || {};window.PLOTLYENV.BASE_URL=\"https://plot.ly\";Plotly.newPlot(\"5f5e5bd3-24c8-43ce-aeaa-0c68190496f2\", [{\"marker\": {\"opacity\": 0}, \"mode\": \"markers\", \"x\": [0, 800.0], \"y\": [0, 450.0], \"type\": \"scatter\", \"uid\": \"05fd8818-ed34-11e8-a249-00dbdf5aac3f\"}], {\"height\": 450.0, \"images\": [{\"layer\": \"below\", \"opacity\": 1.0, \"sizex\": 800.0, \"sizey\": 450.0, \"sizing\": \"stretch\", \"source\": \"https://raw.githubusercontent.com/galinadychko/image_classification/master/data/cut_number/8/8.png\", \"x\": 0, \"xref\": \"x\", \"y\": 450.0, \"yref\": \"y\"}], \"margin\": {\"b\": 0, \"l\": 0, \"r\": 0, \"t\": 0}, \"width\": 800.0, \"xaxis\": {\"range\": [0, 800.0], \"visible\": false}, \"yaxis\": {\"range\": [0, 450.0], \"scaleanchor\": \"x\", \"visible\": false}}, {\"showLink\": true, \"linkText\": \"Export to plot.ly\"})});</script>"
      ]
     },
     "metadata": {},
     "output_type": "display_data"
    },
    {
     "data": {
      "application/vnd.plotly.v1+json": {
       "data": [
        {
         "marker": {
          "opacity": 0
         },
         "mode": "markers",
         "type": "scatter",
         "uid": "0603e8ac-ed34-11e8-a249-00dbdf5aac3f",
         "x": [
          0,
          800
         ],
         "y": [
          0,
          450
         ]
        }
       ],
       "layout": {
        "height": 450,
        "images": [
         {
          "layer": "below",
          "opacity": 1,
          "sizex": 800,
          "sizey": 450,
          "sizing": "stretch",
          "source": "https://raw.githubusercontent.com/galinadychko/image_classification/master/data/cut_number/1/1.png",
          "x": 0,
          "xref": "x",
          "y": 450,
          "yref": "y"
         }
        ],
        "margin": {
         "b": 0,
         "l": 0,
         "r": 0,
         "t": 0
        },
        "width": 800,
        "xaxis": {
         "range": [
          0,
          800
         ],
         "visible": false
        },
        "yaxis": {
         "range": [
          0,
          450
         ],
         "scaleanchor": "x",
         "visible": false
        }
       }
      },
      "text/html": [
       "<div id=\"f7b1242f-35b0-4745-9737-cf39c65799d5\" style=\"height: 450.0px; width: 800.0px;\" class=\"plotly-graph-div\"></div><script type=\"text/javascript\">require([\"plotly\"], function(Plotly) { window.PLOTLYENV=window.PLOTLYENV || {};window.PLOTLYENV.BASE_URL=\"https://plot.ly\";Plotly.newPlot(\"f7b1242f-35b0-4745-9737-cf39c65799d5\", [{\"marker\": {\"opacity\": 0}, \"mode\": \"markers\", \"x\": [0, 800.0], \"y\": [0, 450.0], \"type\": \"scatter\", \"uid\": \"0603e8ac-ed34-11e8-a249-00dbdf5aac3f\"}], {\"height\": 450.0, \"images\": [{\"layer\": \"below\", \"opacity\": 1.0, \"sizex\": 800.0, \"sizey\": 450.0, \"sizing\": \"stretch\", \"source\": \"https://raw.githubusercontent.com/galinadychko/image_classification/master/data/cut_number/1/1.png\", \"x\": 0, \"xref\": \"x\", \"y\": 450.0, \"yref\": \"y\"}], \"margin\": {\"b\": 0, \"l\": 0, \"r\": 0, \"t\": 0}, \"width\": 800.0, \"xaxis\": {\"range\": [0, 800.0], \"visible\": false}, \"yaxis\": {\"range\": [0, 450.0], \"scaleanchor\": \"x\", \"visible\": false}}, {\"showLink\": true, \"linkText\": \"Export to plot.ly\"})});</script>"
      ],
      "text/vnd.plotly.v1+html": [
       "<div id=\"f7b1242f-35b0-4745-9737-cf39c65799d5\" style=\"height: 450.0px; width: 800.0px;\" class=\"plotly-graph-div\"></div><script type=\"text/javascript\">require([\"plotly\"], function(Plotly) { window.PLOTLYENV=window.PLOTLYENV || {};window.PLOTLYENV.BASE_URL=\"https://plot.ly\";Plotly.newPlot(\"f7b1242f-35b0-4745-9737-cf39c65799d5\", [{\"marker\": {\"opacity\": 0}, \"mode\": \"markers\", \"x\": [0, 800.0], \"y\": [0, 450.0], \"type\": \"scatter\", \"uid\": \"0603e8ac-ed34-11e8-a249-00dbdf5aac3f\"}], {\"height\": 450.0, \"images\": [{\"layer\": \"below\", \"opacity\": 1.0, \"sizex\": 800.0, \"sizey\": 450.0, \"sizing\": \"stretch\", \"source\": \"https://raw.githubusercontent.com/galinadychko/image_classification/master/data/cut_number/1/1.png\", \"x\": 0, \"xref\": \"x\", \"y\": 450.0, \"yref\": \"y\"}], \"margin\": {\"b\": 0, \"l\": 0, \"r\": 0, \"t\": 0}, \"width\": 800.0, \"xaxis\": {\"range\": [0, 800.0], \"visible\": false}, \"yaxis\": {\"range\": [0, 450.0], \"scaleanchor\": \"x\", \"visible\": false}}, {\"showLink\": true, \"linkText\": \"Export to plot.ly\"})});</script>"
      ]
     },
     "metadata": {},
     "output_type": "display_data"
    }
   ],
   "source": [
    "for im in n:\n",
    "    img_vizualisation(\"https://raw.githubusercontent.com/galinadychko/image_classification/master/data/cut_number/{}/{}.png\".format(im, im))"
   ]
  },
  {
   "cell_type": "markdown",
   "metadata": {},
   "source": [
    "# Image Transformation"
   ]
  },
  {
   "cell_type": "markdown",
   "metadata": {},
   "source": [
    "1. Convert images to gray-scaled pictures"
   ]
  },
  {
   "cell_type": "code",
   "execution_count": 6,
   "metadata": {},
   "outputs": [],
   "source": [
    "resize_img_list(folder_path=project_path+\"/data/cut_number\", \n",
    "                new_folder_path=project_path+\"/data/gray_scale_pictures\",\n",
    "                size=(100, 100))"
   ]
  },
  {
   "cell_type": "markdown",
   "metadata": {
    "scrolled": true
   },
   "source": [
    "2. Chose random 10 and make transformation\n",
    "\n",
    "    * for 10 pictures - rotation by angle \n",
    "            * 45\n",
    "            * -45\n",
    "    * for 10 pictures - blured"
   ]
  },
  {
   "cell_type": "code",
   "execution_count": 7,
   "metadata": {},
   "outputs": [],
   "source": [
    "choose_random_img_set(folder_path=project_path+\"/data/gray_scale_pictures\", size=10)"
   ]
  },
  {
   "cell_type": "markdown",
   "metadata": {},
   "source": [
    "3. Histeq and converting to array\n",
    "\n",
    "This transform flattens the graylevel histogram of an image so that all intensities are as equally common as possible. This is often a good way to normalize image intensity before further processing and also a way to increase image contrast."
   ]
  },
  {
   "cell_type": "code",
   "execution_count": 8,
   "metadata": {},
   "outputs": [],
   "source": [
    "final_prepar_img_list(folder_path=project_path+\"/data/gray_scale_pictures\")"
   ]
  },
  {
   "cell_type": "code",
   "execution_count": 9,
   "metadata": {},
   "outputs": [],
   "source": [
    "working_image_directory=project_path+\"/data/\"+\"/hist_eq\""
   ]
  },
  {
   "cell_type": "code",
   "execution_count": 10,
   "metadata": {},
   "outputs": [
    {
     "name": "stdout",
     "output_type": "stream",
     "text": [
      "Number of pictures in sample: 1076\n"
     ]
    }
   ],
   "source": [
    "print(\"Number of pictures in sample: %s\" %len(os.listdir(working_image_directory)))"
   ]
  },
  {
   "cell_type": "markdown",
   "metadata": {},
   "source": [
    "# PCA"
   ]
  },
  {
   "cell_type": "code",
   "execution_count": 106,
   "metadata": {},
   "outputs": [],
   "source": [
    "imlist = [working_image_directory+\"/\"+elem for elem in os.listdir(working_image_directory)]"
   ]
  },
  {
   "cell_type": "code",
   "execution_count": 107,
   "metadata": {},
   "outputs": [],
   "source": [
    "im = np.array(Image.open(imlist[0])) # open one image to get size\n",
    "m,n = im.shape[0:2] # get the size of the images\n",
    "imnbr = len(imlist) # get the number of images"
   ]
  },
  {
   "cell_type": "code",
   "execution_count": 108,
   "metadata": {},
   "outputs": [
    {
     "name": "stdout",
     "output_type": "stream",
     "text": [
      "Image size: 100*100\n"
     ]
    }
   ],
   "source": [
    "print(\"Image size: {}*{}\".format(m,n))"
   ]
  },
  {
   "cell_type": "code",
   "execution_count": 109,
   "metadata": {},
   "outputs": [],
   "source": [
    "# create matrix to store all flattened images\n",
    "immatrix = np.array([np.array(np.array(Image.open(im)).flatten(), \"f\") for im in imlist])"
   ]
  },
  {
   "cell_type": "code",
   "execution_count": 110,
   "metadata": {},
   "outputs": [
    {
     "name": "stdout",
     "output_type": "stream",
     "text": [
      "Matrix of features shape: (1076, 10000)\n"
     ]
    }
   ],
   "source": [
    "print(\"Matrix of features shape: {}\".format(immatrix.shape))"
   ]
  },
  {
   "cell_type": "code",
   "execution_count": 111,
   "metadata": {},
   "outputs": [],
   "source": [
    "# perform PCA\n",
    "V,S,immean = pca(immatrix)"
   ]
  },
  {
   "cell_type": "code",
   "execution_count": 113,
   "metadata": {},
   "outputs": [],
   "source": [
    "projected=np.array([np.dot(V[:100],immatrix[i]-immean) for i in range(imnbr)])"
   ]
  },
  {
   "cell_type": "code",
   "execution_count": 114,
   "metadata": {},
   "outputs": [
    {
     "name": "stdout",
     "output_type": "stream",
     "text": [
      "NEW Matrix of features shape: (1076, 100)\n"
     ]
    }
   ],
   "source": [
    "print(\"NEW Matrix of features shape: {}\".format(projected.shape))"
   ]
  },
  {
   "cell_type": "code",
   "execution_count": 115,
   "metadata": {},
   "outputs": [],
   "source": [
    "projected_df = pd.DataFrame(projected)"
   ]
  },
  {
   "cell_type": "code",
   "execution_count": 116,
   "metadata": {},
   "outputs": [],
   "source": [
    "cl = []\n",
    "for elem in imlist:\n",
    "    cl.append(re.findall(r\"/home/administrator/Desktop/UNIVERSITY/ds/data//hist_eq/\\d+\", elem)[0][len(\"/home/administrator/Desktop/UNIVERSITY/ds/data//hist_eq/\"):])"
   ]
  },
  {
   "cell_type": "code",
   "execution_count": 117,
   "metadata": {},
   "outputs": [],
   "source": [
    "projected_df[\"class\"] = cl"
   ]
  },
  {
   "cell_type": "code",
   "execution_count": 118,
   "metadata": {},
   "outputs": [],
   "source": [
    "projected_df.to_csv(project_path+\"/data/features.csv\", index=False)"
   ]
  },
  {
   "cell_type": "markdown",
   "metadata": {},
   "source": [
    "# K-NN"
   ]
  },
  {
   "cell_type": "code",
   "execution_count": 119,
   "metadata": {},
   "outputs": [],
   "source": [
    "(trainData, testData, trainLabels, testLabels) = train_test_split(np.array(projected_df.loc[:, projected_df.columns != \"class\"]),\n",
    "projected_df[\"class\"], test_size=0.25, random_state=42)"
   ]
  },
  {
   "cell_type": "code",
   "execution_count": 120,
   "metadata": {},
   "outputs": [],
   "source": [
    "(trainData, valData, trainLabels, valLabels) = train_test_split(trainData, trainLabels,\n",
    "test_size=0.1, random_state=84)"
   ]
  },
  {
   "cell_type": "code",
   "execution_count": 121,
   "metadata": {},
   "outputs": [
    {
     "name": "stdout",
     "output_type": "stream",
     "text": [
      "training data points: 726\n",
      "validation data points: 81\n",
      "testing data points: 269\n"
     ]
    }
   ],
   "source": [
    "print(\"training data points: {}\".format(len(trainLabels)))\n",
    "print(\"validation data points: {}\".format(len(valLabels)))\n",
    "print(\"testing data points: {}\".format(len(testLabels)))"
   ]
  },
  {
   "cell_type": "code",
   "execution_count": 122,
   "metadata": {},
   "outputs": [],
   "source": [
    "kVals = range(1, 30, 2)\n",
    "accuracies = []"
   ]
  },
  {
   "cell_type": "code",
   "execution_count": 123,
   "metadata": {},
   "outputs": [
    {
     "name": "stdout",
     "output_type": "stream",
     "text": [
      "k=1, accuracy=53.09%\n",
      "k=3, accuracy=35.80%\n",
      "k=5, accuracy=29.63%\n",
      "k=7, accuracy=24.69%\n",
      "k=9, accuracy=23.46%\n",
      "k=11, accuracy=25.93%\n",
      "k=13, accuracy=22.22%\n",
      "k=15, accuracy=20.99%\n",
      "k=17, accuracy=18.52%\n",
      "k=19, accuracy=20.99%\n",
      "k=21, accuracy=19.75%\n",
      "k=23, accuracy=23.46%\n",
      "k=25, accuracy=18.52%\n",
      "k=27, accuracy=19.75%\n",
      "k=29, accuracy=18.52%\n"
     ]
    }
   ],
   "source": [
    "for k in range(1, 30, 2):\n",
    "    # train the k-Nearest Neighbor classifier with the current value of `k`\n",
    "    model = KNeighborsClassifier(n_neighbors=k, p=2)\n",
    "    model.fit(trainData, trainLabels)\n",
    "    # evaluate the model and update the accuracies list\n",
    "    score = model.score(valData, valLabels)\n",
    "    print(\"k=%d, accuracy=%.2f%%\" % (k, score * 100))\n",
    "    accuracies.append(score)"
   ]
  },
  {
   "cell_type": "code",
   "execution_count": 124,
   "metadata": {},
   "outputs": [
    {
     "name": "stdout",
     "output_type": "stream",
     "text": [
      "k=1 achieved highest accuracy of 53.09% on validation data\n"
     ]
    }
   ],
   "source": [
    "i = np.argmax(accuracies)\n",
    "print(\"k=%d achieved highest accuracy of %.2f%% on validation data\" % (kVals[i],\n",
    "accuracies[i] * 100))\n"
   ]
  },
  {
   "cell_type": "code",
   "execution_count": 125,
   "metadata": {},
   "outputs": [],
   "source": [
    "model = KNeighborsClassifier(n_neighbors=kVals[i])\n",
    "model.fit(trainData, trainLabels)\n",
    "predictions = model.predict(testData)"
   ]
  },
  {
   "cell_type": "code",
   "execution_count": 126,
   "metadata": {},
   "outputs": [
    {
     "name": "stdout",
     "output_type": "stream",
     "text": [
      "7\n"
     ]
    }
   ],
   "source": [
    "print(predictions[1])\n"
   ]
  },
  {
   "cell_type": "code",
   "execution_count": 127,
   "metadata": {},
   "outputs": [
    {
     "name": "stdout",
     "output_type": "stream",
     "text": [
      "EVALUATION ON TESTING DATA\n",
      "              precision    recall  f1-score   support\n",
      "\n",
      "           1       0.33      0.67      0.44        24\n",
      "           2       0.79      0.54      0.64        41\n",
      "           3       0.58      0.44      0.50        34\n",
      "           4       0.75      0.72      0.74        29\n",
      "           5       0.28      0.60      0.38        20\n",
      "           6       0.76      0.76      0.76        21\n",
      "           7       0.74      0.33      0.46        42\n",
      "           8       0.42      0.50      0.45        30\n",
      "           9       0.70      0.50      0.58        28\n",
      "\n",
      "   micro avg       0.54      0.54      0.54       269\n",
      "   macro avg       0.59      0.56      0.55       269\n",
      "weighted avg       0.62      0.54      0.55       269\n",
      "\n"
     ]
    }
   ],
   "source": [
    "print(\"EVALUATION ON TESTING DATA\")\n",
    "print(classification_report(testLabels, predictions))"
   ]
  },
  {
   "cell_type": "code",
   "execution_count": 128,
   "metadata": {},
   "outputs": [],
   "source": [
    "cm1=confusion_matrix(testLabels,predictions)"
   ]
  },
  {
   "cell_type": "code",
   "execution_count": 129,
   "metadata": {},
   "outputs": [
    {
     "name": "stdout",
     "output_type": "stream",
     "text": [
      "Confusion matrix, without normalization\n"
     ]
    },
    {
     "data": {
      "image/png": "[encoded data removed]",
      "text/plain": [
       "<matplotlib.figure.Figure at 0x7fc4414337f0>"
      ]
     },
     "metadata": {},
     "output_type": "display_data"
    }
   ],
   "source": [
    "plot_confusion_matrix(cm, list(range(0, 10)), cmap=plt.cm.Blues)"
   ]
  },
  {
   "cell_type": "markdown",
   "metadata": {},
   "source": [
    "# Without PCA"
   ]
  },
  {
   "cell_type": "code",
   "execution_count": 88,
   "metadata": {},
   "outputs": [
    {
     "name": "stdout",
     "output_type": "stream",
     "text": [
      "Image size: 100*100\n"
     ]
    }
   ],
   "source": [
    "imlist = [working_image_directory+\"/\"+elem for elem in os.listdir(working_image_directory)]\n",
    "\n",
    "im = np.array(Image.open(imlist[0])) # open one image to get size\n",
    "m,n = im.shape[0:2] # get the size of the images\n",
    "imnbr = len(imlist) # get the number of images\n",
    "\n",
    "print(\"Image size: {}*{}\".format(m,n))"
   ]
  },
  {
   "cell_type": "code",
   "execution_count": 89,
   "metadata": {},
   "outputs": [
    {
     "name": "stdout",
     "output_type": "stream",
     "text": [
      "Matrix of features shape: (1076, 10000)\n"
     ]
    }
   ],
   "source": [
    "# create matrix to store all flattened images\n",
    "immatrix = np.array([np.array(np.array(Image.open(im)).flatten(), \"f\") for im in imlist])\n",
    "\n",
    "print(\"Matrix of features shape: {}\".format(immatrix.shape))"
   ]
  },
  {
   "cell_type": "code",
   "execution_count": 97,
   "metadata": {},
   "outputs": [],
   "source": [
    "immatrix_df = pd.DataFrame(immatrix)\n",
    "\n",
    "cl = []\n",
    "for elem in imlist:\n",
    "    cl.append(re.findall(r\"/home/administrator/Desktop/UNIVERSITY/ds/data//hist_eq/\\d+\", elem)[0][len(\"/home/administrator/Desktop/UNIVERSITY/ds/data//hist_eq/\"):])\n",
    "\n",
    "immatrix_df[\"class\"] = cl\n",
    "\n",
    "immatrix_df.to_csv(project_path+\"/data/features_all.csv\", index=False)\n"
   ]
  },
  {
   "cell_type": "code",
   "execution_count": 98,
   "metadata": {},
   "outputs": [
    {
     "data": {
      "text/plain": [
       "(1076, 10001)"
      ]
     },
     "execution_count": 98,
     "metadata": {},
     "output_type": "execute_result"
    }
   ],
   "source": [
    "immatrix_df.shape"
   ]
  },
  {
   "cell_type": "code",
   "execution_count": 99,
   "metadata": {},
   "outputs": [
    {
     "data": {
      "text/html": [
       "<div>\n",
       "<style scoped>\n",
       "    .dataframe tbody tr th:only-of-type {\n",
       "        vertical-align: middle;\n",
       "    }\n",
       "\n",
       "    .dataframe tbody tr th {\n",
       "        vertical-align: top;\n",
       "    }\n",
       "\n",
       "    .dataframe thead th {\n",
       "        text-align: right;\n",
       "    }\n",
       "</style>\n",
       "<table border=\"1\" class=\"dataframe\">\n",
       "  <thead>\n",
       "    <tr style=\"text-align: right;\">\n",
       "      <th></th>\n",
       "      <th>0</th>\n",
       "      <th>1</th>\n",
       "      <th>2</th>\n",
       "      <th>3</th>\n",
       "      <th>4</th>\n",
       "      <th>5</th>\n",
       "      <th>6</th>\n",
       "      <th>7</th>\n",
       "      <th>8</th>\n",
       "      <th>9</th>\n",
       "      <th>...</th>\n",
       "      <th>9991</th>\n",
       "      <th>9992</th>\n",
       "      <th>9993</th>\n",
       "      <th>9994</th>\n",
       "      <th>9995</th>\n",
       "      <th>9996</th>\n",
       "      <th>9997</th>\n",
       "      <th>9998</th>\n",
       "      <th>9999</th>\n",
       "      <th>class</th>\n",
       "    </tr>\n",
       "  </thead>\n",
       "  <tbody>\n",
       "    <tr>\n",
       "      <th>0</th>\n",
       "      <td>255.0</td>\n",
       "      <td>255.0</td>\n",
       "      <td>255.0</td>\n",
       "      <td>255.0</td>\n",
       "      <td>255.0</td>\n",
       "      <td>255.0</td>\n",
       "      <td>255.0</td>\n",
       "      <td>255.0</td>\n",
       "      <td>255.0</td>\n",
       "      <td>255.0</td>\n",
       "      <td>...</td>\n",
       "      <td>255.0</td>\n",
       "      <td>253.0</td>\n",
       "      <td>224.0</td>\n",
       "      <td>255.0</td>\n",
       "      <td>255.0</td>\n",
       "      <td>247.0</td>\n",
       "      <td>236.0</td>\n",
       "      <td>247.0</td>\n",
       "      <td>249.0</td>\n",
       "      <td>1</td>\n",
       "    </tr>\n",
       "    <tr>\n",
       "      <th>1</th>\n",
       "      <td>255.0</td>\n",
       "      <td>255.0</td>\n",
       "      <td>255.0</td>\n",
       "      <td>131.0</td>\n",
       "      <td>131.0</td>\n",
       "      <td>11.0</td>\n",
       "      <td>9.0</td>\n",
       "      <td>11.0</td>\n",
       "      <td>131.0</td>\n",
       "      <td>131.0</td>\n",
       "      <td>...</td>\n",
       "      <td>255.0</td>\n",
       "      <td>255.0</td>\n",
       "      <td>255.0</td>\n",
       "      <td>255.0</td>\n",
       "      <td>255.0</td>\n",
       "      <td>255.0</td>\n",
       "      <td>255.0</td>\n",
       "      <td>255.0</td>\n",
       "      <td>255.0</td>\n",
       "      <td>8</td>\n",
       "    </tr>\n",
       "    <tr>\n",
       "      <th>2</th>\n",
       "      <td>44.0</td>\n",
       "      <td>44.0</td>\n",
       "      <td>44.0</td>\n",
       "      <td>44.0</td>\n",
       "      <td>44.0</td>\n",
       "      <td>44.0</td>\n",
       "      <td>44.0</td>\n",
       "      <td>44.0</td>\n",
       "      <td>44.0</td>\n",
       "      <td>44.0</td>\n",
       "      <td>...</td>\n",
       "      <td>44.0</td>\n",
       "      <td>44.0</td>\n",
       "      <td>44.0</td>\n",
       "      <td>44.0</td>\n",
       "      <td>44.0</td>\n",
       "      <td>44.0</td>\n",
       "      <td>44.0</td>\n",
       "      <td>44.0</td>\n",
       "      <td>44.0</td>\n",
       "      <td>5</td>\n",
       "    </tr>\n",
       "    <tr>\n",
       "      <th>3</th>\n",
       "      <td>48.0</td>\n",
       "      <td>48.0</td>\n",
       "      <td>48.0</td>\n",
       "      <td>48.0</td>\n",
       "      <td>48.0</td>\n",
       "      <td>48.0</td>\n",
       "      <td>48.0</td>\n",
       "      <td>48.0</td>\n",
       "      <td>48.0</td>\n",
       "      <td>48.0</td>\n",
       "      <td>...</td>\n",
       "      <td>48.0</td>\n",
       "      <td>48.0</td>\n",
       "      <td>48.0</td>\n",
       "      <td>48.0</td>\n",
       "      <td>48.0</td>\n",
       "      <td>48.0</td>\n",
       "      <td>48.0</td>\n",
       "      <td>48.0</td>\n",
       "      <td>48.0</td>\n",
       "      <td>7</td>\n",
       "    </tr>\n",
       "    <tr>\n",
       "      <th>4</th>\n",
       "      <td>246.0</td>\n",
       "      <td>231.0</td>\n",
       "      <td>242.0</td>\n",
       "      <td>237.0</td>\n",
       "      <td>239.0</td>\n",
       "      <td>245.0</td>\n",
       "      <td>242.0</td>\n",
       "      <td>245.0</td>\n",
       "      <td>236.0</td>\n",
       "      <td>238.0</td>\n",
       "      <td>...</td>\n",
       "      <td>251.0</td>\n",
       "      <td>255.0</td>\n",
       "      <td>254.0</td>\n",
       "      <td>245.0</td>\n",
       "      <td>254.0</td>\n",
       "      <td>254.0</td>\n",
       "      <td>255.0</td>\n",
       "      <td>248.0</td>\n",
       "      <td>245.0</td>\n",
       "      <td>6</td>\n",
       "    </tr>\n",
       "  </tbody>\n",
       "</table>\n",
       "<p>5 rows × 10001 columns</p>\n",
       "</div>"
      ],
      "text/plain": [
       "       0      1      2      3      4      5      6      7      8      9  \\\n",
       "0  255.0  255.0  255.0  255.0  255.0  255.0  255.0  255.0  255.0  255.0   \n",
       "1  255.0  255.0  255.0  131.0  131.0   11.0    9.0   11.0  131.0  131.0   \n",
       "2   44.0   44.0   44.0   44.0   44.0   44.0   44.0   44.0   44.0   44.0   \n",
       "3   48.0   48.0   48.0   48.0   48.0   48.0   48.0   48.0   48.0   48.0   \n",
       "4  246.0  231.0  242.0  237.0  239.0  245.0  242.0  245.0  236.0  238.0   \n",
       "\n",
       "   ...     9991   9992   9993   9994   9995   9996   9997   9998   9999  class  \n",
       "0  ...    255.0  253.0  224.0  255.0  255.0  247.0  236.0  247.0  249.0      1  \n",
       "1  ...    255.0  255.0  255.0  255.0  255.0  255.0  255.0  255.0  255.0      8  \n",
       "2  ...     44.0   44.0   44.0   44.0   44.0   44.0   44.0   44.0   44.0      5  \n",
       "3  ...     48.0   48.0   48.0   48.0   48.0   48.0   48.0   48.0   48.0      7  \n",
       "4  ...    251.0  255.0  254.0  245.0  254.0  254.0  255.0  248.0  245.0      6  \n",
       "\n",
       "[5 rows x 10001 columns]"
      ]
     },
     "execution_count": 99,
     "metadata": {},
     "output_type": "execute_result"
    }
   ],
   "source": [
    "immatrix_df.head()"
   ]
  },
  {
   "cell_type": "code",
   "execution_count": 100,
   "metadata": {},
   "outputs": [
    {
     "name": "stdout",
     "output_type": "stream",
     "text": [
      "training data points: 726\n",
      "validation data points: 81\n",
      "testing data points: 269\n"
     ]
    }
   ],
   "source": [
    "\n",
    "(trainData, testData, trainLabels, testLabels) = train_test_split(np.array(immatrix_df.loc[:, immatrix_df.columns != \"class\"]),\n",
    "immatrix_df[\"class\"], test_size=0.25, random_state=42)\n",
    "\n",
    "(trainData, valData, trainLabels, valLabels) = train_test_split(trainData, trainLabels,\n",
    "test_size=0.1, random_state=84)\n",
    "\n",
    "print(\"training data points: {}\".format(len(trainLabels)))\n",
    "print(\"validation data points: {}\".format(len(valLabels)))\n",
    "print(\"testing data points: {}\".format(len(testLabels)))"
   ]
  },
  {
   "cell_type": "code",
   "execution_count": 101,
   "metadata": {},
   "outputs": [
    {
     "name": "stdout",
     "output_type": "stream",
     "text": [
      "k=1, accuracy=65.43%\n",
      "k=3, accuracy=34.57%\n",
      "k=5, accuracy=30.86%\n",
      "k=7, accuracy=22.22%\n",
      "k=9, accuracy=23.46%\n",
      "k=11, accuracy=22.22%\n",
      "k=13, accuracy=20.99%\n",
      "k=15, accuracy=19.75%\n",
      "k=17, accuracy=17.28%\n",
      "k=19, accuracy=18.52%\n",
      "k=21, accuracy=17.28%\n",
      "k=23, accuracy=18.52%\n",
      "k=25, accuracy=16.05%\n",
      "k=27, accuracy=14.81%\n",
      "k=29, accuracy=17.28%\n"
     ]
    }
   ],
   "source": [
    "kVals = range(1, 30, 2)\n",
    "accuracies = []\n",
    "\n",
    "for k in range(1, 30, 2):\n",
    "    # train the k-Nearest Neighbor classifier with the current value of `k`\n",
    "    model = KNeighborsClassifier(n_neighbors=k, p=2)\n",
    "    model.fit(trainData, trainLabels)\n",
    "    # evaluate the model and update the accuracies list\n",
    "    score = model.score(valData, valLabels)\n",
    "    print(\"k=%d, accuracy=%.2f%%\" % (k, score * 100))\n",
    "    accuracies.append(score)\n"
   ]
  },
  {
   "cell_type": "code",
   "execution_count": 102,
   "metadata": {},
   "outputs": [
    {
     "name": "stdout",
     "output_type": "stream",
     "text": [
      "k=1 achieved highest accuracy of 65.43% on validation data\n"
     ]
    }
   ],
   "source": [
    "i = np.argmax(accuracies)\n",
    "print(\"k=%d achieved highest accuracy of %.2f%% on validation data\" % (kVals[i],\n",
    "accuracies[i] * 100))"
   ]
  },
  {
   "cell_type": "code",
   "execution_count": 103,
   "metadata": {},
   "outputs": [
    {
     "name": "stdout",
     "output_type": "stream",
     "text": [
      "7\n"
     ]
    }
   ],
   "source": [
    "model = KNeighborsClassifier(n_neighbors=kVals[i])\n",
    "model.fit(trainData, trainLabels)\n",
    "predictions = model.predict(testData)\n",
    "\n",
    "print(predictions[1])"
   ]
  },
  {
   "cell_type": "code",
   "execution_count": 104,
   "metadata": {},
   "outputs": [
    {
     "name": "stdout",
     "output_type": "stream",
     "text": [
      "EVALUATION ON TESTING DATA\n",
      "              precision    recall  f1-score   support\n",
      "\n",
      "           1       0.58      0.79      0.67        24\n",
      "           2       0.69      0.54      0.60        41\n",
      "           3       0.34      0.62      0.44        34\n",
      "           4       0.76      0.76      0.76        29\n",
      "           5       0.61      0.70      0.65        20\n",
      "           6       0.77      0.81      0.79        21\n",
      "           7       0.77      0.55      0.64        42\n",
      "           8       0.80      0.53      0.64        30\n",
      "           9       0.89      0.57      0.70        28\n",
      "\n",
      "   micro avg       0.63      0.63      0.63       269\n",
      "   macro avg       0.69      0.65      0.65       269\n",
      "weighted avg       0.69      0.63      0.64       269\n",
      "\n",
      "Confusion matrix, without normalization\n"
     ]
    },
    {
     "data": {
      "image/png": "[encoded data removed]",
      "text/plain": [
       "<matplotlib.figure.Figure at 0x7fc4418cc2b0>"
      ]
     },
     "metadata": {},
     "output_type": "display_data"
    }
   ],
   "source": [
    "print(\"EVALUATION ON TESTING DATA\")\n",
    "print(classification_report(testLabels, predictions))\n",
    "\n",
    "cm=confusion_matrix(testLabels,predictions)\n",
    "\n",
    "plot_confusion_matrix(cm, list(range(0, 10)), cmap=plt.cm.Blues)"
   ]
  },
  {
   "cell_type": "code",
   "execution_count": 130,
   "metadata": {},
   "outputs": [
    {
     "name": "stdout",
     "output_type": "stream",
     "text": [
      "Confusion matrix, without normalization\n"
     ]
    },
    {
     "data": {
      "image/png": "[encoded data removed]",
      "text/plain": [
       "<matplotlib.figure.Figure at 0x7fc4413b2780>"
      ]
     },
     "metadata": {},
     "output_type": "display_data"
    }
   ],
   "source": [
    "plot_confusion_matrix(cm1, list(range(0, 10)), cmap=plt.cm.Blues)"
   ]
  },
  {
   "cell_type": "code",
   "execution_count": null,
   "metadata": {},
   "outputs": [],
   "source": []
  }
 ],
 "metadata": {
  "kernelspec": {
   "display_name": "Python 3",
   "language": "python",
   "name": "python3"
  },
  "language_info": {
   "codemirror_mode": {
    "name": "ipython",
    "version": 3
   },
   "file_extension": ".py",
   "mimetype": "text/x-python",
   "name": "python",
   "nbconvert_exporter": "python",
   "pygments_lexer": "ipython3",
   "version": "3.6.3"
  }
 },
 "nbformat": 4,
 "nbformat_minor": 2
}
