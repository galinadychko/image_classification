{
 "cells": [
  {
   "cell_type": "markdown",
   "metadata": {},
   "source": [
    "<h1 align=\"center\"><font size=10> <font color=blue>K-NN classification <br/><font size=6> for handmade sample</font> <br/><font size=5><font color=black>using handwritten image transformation and sklearn library</font>\n",
    "***"
   ]
  },
  {
   "cell_type": "code",
   "execution_count": 31,
   "metadata": {},
   "outputs": [],
   "source": [
    "from export_libraries import *"
   ]
  },
  {
   "cell_type": "markdown",
   "metadata": {},
   "source": [
    "# Shortly about dataset"
   ]
  },
  {
   "cell_type": "markdown",
   "metadata": {},
   "source": [
    "Set the working directory"
   ]
  },
  {
   "cell_type": "code",
   "execution_count": 32,
   "metadata": {},
   "outputs": [],
   "source": [
    "project_path = os.path.abspath(os.pardir)"
   ]
  },
  {
   "cell_type": "markdown",
   "metadata": {},
   "source": [
    "Choose random pictures from the data"
   ]
  },
  {
   "cell_type": "code",
   "execution_count": 37,
   "metadata": {},
   "outputs": [
    {
     "data": {
      "text/html": [
       "<script>requirejs.config({paths: { 'plotly': ['https://cdn.plot.ly/plotly-latest.min']},});if(!window.Plotly) {{require(['plotly'],function(plotly) {window.Plotly=plotly;});}}</script>"
      ],
      "text/vnd.plotly.v1+html": [
       "<script>requirejs.config({paths: { 'plotly': ['https://cdn.plot.ly/plotly-latest.min']},});if(!window.Plotly) {{require(['plotly'],function(plotly) {window.Plotly=plotly;});}}</script>"
      ]
     },
     "metadata": {},
     "output_type": "display_data"
    }
   ],
   "source": [
    "import plotly.graph_objs as go\n",
    "from plotly import tools\n",
    "from plotly.offline import download_plotlyjs, init_notebook_mode, plot, iplot\n",
    "init_notebook_mode(connected=True)"
   ]
  },
  {
   "cell_type": "code",
   "execution_count": 43,
   "metadata": {},
   "outputs": [
    {
     "data": {
      "application/vnd.plotly.v1+json": {
       "data": [
        {
         "marker": {
          "opacity": 0
         },
         "mode": "markers",
         "type": "scatter",
         "uid": "c3f1c3ec-ed2b-11e8-b775-00dbdf5aac3f",
         "x": [
          0,
          800
         ],
         "y": [
          0,
          450
         ]
        }
       ],
       "layout": {
        "height": 450,
        "images": [
         {
          "layer": "below",
          "opacity": 1,
          "sizex": 800,
          "sizey": 450,
          "sizing": "stretch",
          "source": "/home/administrator/Desktop/UNIVERSITY/ds/data/row/2.jpg",
          "x": 0,
          "xref": "x",
          "y": 450,
          "yref": "y"
         }
        ],
        "margin": {
         "b": 0,
         "l": 0,
         "r": 0,
         "t": 0
        },
        "width": 800,
        "xaxis": {
         "range": [
          0,
          800
         ],
         "visible": false
        },
        "yaxis": {
         "range": [
          0,
          450
         ],
         "scaleanchor": "x",
         "visible": false
        }
       }
      },
      "text/html": [
       "<div id=\"30b0bd04-e09e-4748-b2c8-bc2aa5d55d8b\" style=\"height: 450.0px; width: 800.0px;\" class=\"plotly-graph-div\"></div><script type=\"text/javascript\">require([\"plotly\"], function(Plotly) { window.PLOTLYENV=window.PLOTLYENV || {};window.PLOTLYENV.BASE_URL=\"https://plot.ly\";Plotly.newPlot(\"30b0bd04-e09e-4748-b2c8-bc2aa5d55d8b\", [{\"marker\": {\"opacity\": 0}, \"mode\": \"markers\", \"x\": [0, 800.0], \"y\": [0, 450.0], \"type\": \"scatter\", \"uid\": \"c3f1c3ec-ed2b-11e8-b775-00dbdf5aac3f\"}], {\"height\": 450.0, \"images\": [{\"layer\": \"below\", \"opacity\": 1.0, \"sizex\": 800.0, \"sizey\": 450.0, \"sizing\": \"stretch\", \"source\": \"/home/administrator/Desktop/UNIVERSITY/ds/data/row/2.jpg\", \"x\": 0, \"xref\": \"x\", \"y\": 450.0, \"yref\": \"y\"}], \"margin\": {\"b\": 0, \"l\": 0, \"r\": 0, \"t\": 0}, \"width\": 800.0, \"xaxis\": {\"range\": [0, 800.0], \"visible\": false}, \"yaxis\": {\"range\": [0, 450.0], \"scaleanchor\": \"x\", \"visible\": false}}, {\"showLink\": true, \"linkText\": \"Export to plot.ly\"})});</script>"
      ],
      "text/vnd.plotly.v1+html": [
       "<div id=\"30b0bd04-e09e-4748-b2c8-bc2aa5d55d8b\" style=\"height: 450.0px; width: 800.0px;\" class=\"plotly-graph-div\"></div><script type=\"text/javascript\">require([\"plotly\"], function(Plotly) { window.PLOTLYENV=window.PLOTLYENV || {};window.PLOTLYENV.BASE_URL=\"https://plot.ly\";Plotly.newPlot(\"30b0bd04-e09e-4748-b2c8-bc2aa5d55d8b\", [{\"marker\": {\"opacity\": 0}, \"mode\": \"markers\", \"x\": [0, 800.0], \"y\": [0, 450.0], \"type\": \"scatter\", \"uid\": \"c3f1c3ec-ed2b-11e8-b775-00dbdf5aac3f\"}], {\"height\": 450.0, \"images\": [{\"layer\": \"below\", \"opacity\": 1.0, \"sizex\": 800.0, \"sizey\": 450.0, \"sizing\": \"stretch\", \"source\": \"/home/administrator/Desktop/UNIVERSITY/ds/data/row/2.jpg\", \"x\": 0, \"xref\": \"x\", \"y\": 450.0, \"yref\": \"y\"}], \"margin\": {\"b\": 0, \"l\": 0, \"r\": 0, \"t\": 0}, \"width\": 800.0, \"xaxis\": {\"range\": [0, 800.0], \"visible\": false}, \"yaxis\": {\"range\": [0, 450.0], \"scaleanchor\": \"x\", \"visible\": false}}, {\"showLink\": true, \"linkText\": \"Export to plot.ly\"})});</script>"
      ]
     },
     "metadata": {},
     "output_type": "display_data"
    }
   ],
   "source": [
    "img_width = 1600\n",
    "img_height = 900\n",
    "scale_factor = 0.5\n",
    "\n",
    "layout = go.Layout(\n",
    "    xaxis = go.layout.XAxis(\n",
    "        visible = False,\n",
    "        range = [0, img_width*scale_factor]),\n",
    "    yaxis = go.layout.YAxis(\n",
    "        visible=False,\n",
    "        range = [0, img_height*scale_factor],\n",
    "        # the scaleanchor attribute ensures that the aspect ratio stays constant\n",
    "        scaleanchor = 'x'),\n",
    "    width = img_width*scale_factor,\n",
    "    height = img_height*scale_factor,\n",
    "    margin = {'l': 0, 'r': 0, 't': 0, 'b': 0},\n",
    "    images = [go.layout.Image(\n",
    "        x=0,\n",
    "        sizex=img_width*scale_factor,\n",
    "        y=img_height*scale_factor,\n",
    "        sizey=img_height*scale_factor,\n",
    "        xref=\"x\",\n",
    "        yref=\"y\",\n",
    "        opacity=1.0,\n",
    "        layer=\"below\",\n",
    "        sizing=\"stretch\",\n",
    "        source=\"/home/administrator/Desktop/UNIVERSITY/ds/data/row/2.jpg\")]\n",
    ")\n",
    "# we add a scatter trace with data points in opposite corners to give the Autoscale feature a reference point\n",
    "fig = go.Figure(data=[{\n",
    "    'x': [0, img_width*scale_factor], \n",
    "    'y': [0, img_height*scale_factor], \n",
    "    'mode': 'markers',\n",
    "    'marker': {'opacity': 0}}],layout = layout)\n",
    "iplot(fig)"
   ]
  },
  {
   "cell_type": "code",
   "execution_count": 35,
   "metadata": {},
   "outputs": [],
   "source": [
    "n=np.random.choice(os.listdir(project_path+\"/data/cut_number\"), 6, replace=False)"
   ]
  },
  {
   "cell_type": "code",
   "execution_count": 36,
   "metadata": {},
   "outputs": [
    {
     "data": {
      "text/plain": [
       "array(['6', '3', '2', '9', '7', '5'], dtype='<U1')"
      ]
     },
     "execution_count": 36,
     "metadata": {},
     "output_type": "execute_result"
    }
   ],
   "source": []
  },
  {
   "cell_type": "code",
   "execution_count": null,
   "metadata": {},
   "outputs": [],
   "source": []
  },
  {
   "cell_type": "code",
   "execution_count": null,
   "metadata": {},
   "outputs": [],
   "source": []
  },
  {
   "cell_type": "markdown",
   "metadata": {},
   "source": [
    "# Image Transformation"
   ]
  },
  {
   "cell_type": "markdown",
   "metadata": {},
   "source": [
    "1. Convert images to gray-scaled pictures"
   ]
  },
  {
   "cell_type": "code",
   "execution_count": 4,
   "metadata": {},
   "outputs": [],
   "source": [
    "resize_img_list(folder_path=project_path+\"/data/cut_number\", \n",
    "                new_folder_path=project_path+\"/data/gray_scale_pictures\")"
   ]
  },
  {
   "cell_type": "markdown",
   "metadata": {
    "scrolled": true
   },
   "source": [
    "2. Chose random 10 and make transformation"
   ]
  },
  {
   "cell_type": "code",
   "execution_count": 5,
   "metadata": {},
   "outputs": [],
   "source": [
    "choose_random_img_set(folder_path=project_path+\"/data/gray_scale_pictures\", size=10)"
   ]
  },
  {
   "cell_type": "markdown",
   "metadata": {},
   "source": [
    "3. Histeq and converting to array"
   ]
  },
  {
   "cell_type": "code",
   "execution_count": 16,
   "metadata": {},
   "outputs": [
    {
     "name": "stderr",
     "output_type": "stream",
     "text": [
      "/home/administrator/Desktop/UNIVERSITY/ds/notebooks/tools/imtools.py:65: VisibleDeprecationWarning: Passing `normed=True` on non-uniform bins has always been broken, and computes neither the probability density function nor the probability mass function. The result is only correct if the bins are uniform, when density=True will produce the same result anyway. The argument will be removed in a future version of numpy.\n",
      "  imhist, bins = np.histogram(im_array.flatten(), nbr_bins, normed=True)\n"
     ]
    }
   ],
   "source": [
    "final_prepar_img_list(folder_path=project_path+\"/data/gray_scale_pictures\")"
   ]
  },
  {
   "cell_type": "markdown",
   "metadata": {},
   "source": [
    "#### PCA"
   ]
  },
  {
   "cell_type": "code",
   "execution_count": 4,
   "metadata": {},
   "outputs": [],
   "source": []
  },
  {
   "cell_type": "code",
   "execution_count": 5,
   "metadata": {},
   "outputs": [],
   "source": [
    "working_image_directory=project_path+\"/data/\"+\"/hist_eq\""
   ]
  },
  {
   "cell_type": "code",
   "execution_count": 6,
   "metadata": {},
   "outputs": [],
   "source": [
    "imlist = [working_image_directory+\"/\"+elem for elem in os.listdir(working_image_directory)]"
   ]
  },
  {
   "cell_type": "code",
   "execution_count": 7,
   "metadata": {},
   "outputs": [],
   "source": [
    "im = np.array(Image.open(imlist[0])) # open one image to get size\n",
    "m,n = im.shape[0:2] # get the size of the images\n",
    "imnbr = len(imlist) # get the number of images"
   ]
  },
  {
   "cell_type": "code",
   "execution_count": 8,
   "metadata": {},
   "outputs": [
    {
     "data": {
      "text/plain": [
       "(50, 50)"
      ]
     },
     "execution_count": 8,
     "metadata": {},
     "output_type": "execute_result"
    }
   ],
   "source": [
    "m,n"
   ]
  },
  {
   "cell_type": "code",
   "execution_count": 9,
   "metadata": {},
   "outputs": [],
   "source": [
    "# create matrix to store all flattened images\n",
    "immatrix = np.array([np.array(np.array(Image.open(im)).flatten(), \"f\") for im in imlist])"
   ]
  },
  {
   "cell_type": "code",
   "execution_count": 10,
   "metadata": {},
   "outputs": [
    {
     "data": {
      "text/plain": [
       "(448, 2500)"
      ]
     },
     "execution_count": 10,
     "metadata": {},
     "output_type": "execute_result"
    }
   ],
   "source": [
    "immatrix.shape"
   ]
  },
  {
   "cell_type": "code",
   "execution_count": 11,
   "metadata": {},
   "outputs": [],
   "source": [
    "# perform PCA\n",
    "V,S,immean = pca(immatrix)"
   ]
  },
  {
   "cell_type": "code",
   "execution_count": 12,
   "metadata": {},
   "outputs": [],
   "source": [
    "projected=np.array([np.dot(V[:100],immatrix[i]-immean) for i in range(imnbr)])"
   ]
  },
  {
   "cell_type": "code",
   "execution_count": 13,
   "metadata": {},
   "outputs": [
    {
     "data": {
      "text/plain": [
       "(448, 100)"
      ]
     },
     "execution_count": 13,
     "metadata": {},
     "output_type": "execute_result"
    }
   ],
   "source": [
    "projected.shape"
   ]
  },
  {
   "cell_type": "code",
   "execution_count": 14,
   "metadata": {},
   "outputs": [],
   "source": [
    "projected_df = pd.DataFrame(projected)"
   ]
  },
  {
   "cell_type": "code",
   "execution_count": 15,
   "metadata": {},
   "outputs": [],
   "source": [
    "cl = []\n",
    "for elem in imlist:\n",
    "    cl.append(re.findall(r\"/home/administrator/Desktop/UNIVERSITY/ds/data//hist_eq/\\d+\", elem)[0][len(\"/home/administrator/Desktop/UNIVERSITY/ds/data//hist_eq/\"):])"
   ]
  },
  {
   "cell_type": "code",
   "execution_count": 16,
   "metadata": {},
   "outputs": [],
   "source": [
    "projected_df[\"class\"] = cl"
   ]
  },
  {
   "cell_type": "code",
   "execution_count": 17,
   "metadata": {},
   "outputs": [],
   "source": [
    "projected_df.to_csv(project_path+\"/data/features.csv\", index=False)"
   ]
  },
  {
   "cell_type": "markdown",
   "metadata": {},
   "source": [
    "# K-NN"
   ]
  },
  {
   "cell_type": "code",
   "execution_count": 18,
   "metadata": {},
   "outputs": [
    {
     "name": "stderr",
     "output_type": "stream",
     "text": [
      "/home/administrator/anaconda3/lib/python3.6/site-packages/sklearn/cross_validation.py:41: DeprecationWarning: This module was deprecated in version 0.18 in favor of the model_selection module into which all the refactored classes and functions are moved. Also note that the interface of the new CV iterators are different from that of this module. This module will be removed in 0.20.\n",
      "  \"This module will be removed in 0.20.\", DeprecationWarning)\n"
     ]
    }
   ],
   "source": []
  },
  {
   "cell_type": "code",
   "execution_count": 19,
   "metadata": {},
   "outputs": [],
   "source": [
    "(trainData, testData, trainLabels, testLabels) = train_test_split(np.array(projected_df.loc[:, projected_df.columns != \"class\"]),\n",
    "projected_df[\"class\"], test_size=0.25, random_state=42)"
   ]
  },
  {
   "cell_type": "code",
   "execution_count": 20,
   "metadata": {},
   "outputs": [],
   "source": [
    "(trainData, valData, trainLabels, valLabels) = train_test_split(trainData, trainLabels,\n",
    "test_size=0.1, random_state=84)"
   ]
  },
  {
   "cell_type": "code",
   "execution_count": 21,
   "metadata": {},
   "outputs": [
    {
     "name": "stdout",
     "output_type": "stream",
     "text": [
      "training data points: 302\n",
      "validation data points: 34\n",
      "testing data points: 112\n"
     ]
    }
   ],
   "source": [
    "print(\"training data points: {}\".format(len(trainLabels)))\n",
    "print(\"validation data points: {}\".format(len(valLabels)))\n",
    "print(\"testing data points: {}\".format(len(testLabels)))"
   ]
  },
  {
   "cell_type": "code",
   "execution_count": 22,
   "metadata": {},
   "outputs": [],
   "source": [
    "kVals = range(1, 30, 2)\n",
    "accuracies = []"
   ]
  },
  {
   "cell_type": "code",
   "execution_count": 23,
   "metadata": {},
   "outputs": [
    {
     "name": "stdout",
     "output_type": "stream",
     "text": [
      "k=1, accuracy=38.24%\n",
      "k=3, accuracy=35.29%\n",
      "k=5, accuracy=35.29%\n",
      "k=7, accuracy=26.47%\n",
      "k=9, accuracy=14.71%\n",
      "k=11, accuracy=17.65%\n",
      "k=13, accuracy=23.53%\n",
      "k=15, accuracy=20.59%\n",
      "k=17, accuracy=26.47%\n",
      "k=19, accuracy=17.65%\n",
      "k=21, accuracy=20.59%\n",
      "k=23, accuracy=26.47%\n",
      "k=25, accuracy=17.65%\n",
      "k=27, accuracy=17.65%\n",
      "k=29, accuracy=29.41%\n"
     ]
    }
   ],
   "source": [
    "for k in range(1, 30, 2):\n",
    "    # train the k-Nearest Neighbor classifier with the current value of `k`\n",
    "    model = KNeighborsClassifier(n_neighbors=k)\n",
    "    model.fit(trainData, trainLabels)\n",
    "    # evaluate the model and update the accuracies list\n",
    "    score = model.score(valData, valLabels)\n",
    "    print(\"k=%d, accuracy=%.2f%%\" % (k, score * 100))\n",
    "    accuracies.append(score)"
   ]
  },
  {
   "cell_type": "code",
   "execution_count": 24,
   "metadata": {},
   "outputs": [
    {
     "name": "stdout",
     "output_type": "stream",
     "text": [
      "k=1 achieved highest accuracy of 38.24% on validation data\n"
     ]
    }
   ],
   "source": [
    "i = np.argmax(accuracies)\n",
    "print(\"k=%d achieved highest accuracy of %.2f%% on validation data\" % (kVals[i],\n",
    "accuracies[i] * 100))\n"
   ]
  },
  {
   "cell_type": "code",
   "execution_count": 25,
   "metadata": {},
   "outputs": [],
   "source": [
    "model = KNeighborsClassifier(n_neighbors=kVals[i])\n",
    "model.fit(trainData, trainLabels)\n",
    "predictions = model.predict(testData)"
   ]
  },
  {
   "cell_type": "code",
   "execution_count": 26,
   "metadata": {},
   "outputs": [
    {
     "name": "stdout",
     "output_type": "stream",
     "text": [
      "9\n"
     ]
    }
   ],
   "source": [
    "print(predictions[1])\n"
   ]
  },
  {
   "cell_type": "code",
   "execution_count": 27,
   "metadata": {},
   "outputs": [
    {
     "name": "stdout",
     "output_type": "stream",
     "text": [
      "EVALUATION ON TESTING DATA\n",
      "              precision    recall  f1-score   support\n",
      "\n",
      "           1       0.09      0.22      0.13         9\n",
      "           2       0.67      0.33      0.44        18\n",
      "           3       0.20      0.19      0.19        16\n",
      "           4       0.46      0.50      0.48        12\n",
      "           5       0.22      0.36      0.28        11\n",
      "           6       0.75      0.25      0.38        12\n",
      "           7       0.17      0.18      0.17        11\n",
      "           8       0.25      0.25      0.25         8\n",
      "           9       0.27      0.20      0.23        15\n",
      "\n",
      "   micro avg       0.28      0.28      0.28       112\n",
      "   macro avg       0.34      0.28      0.28       112\n",
      "weighted avg       0.37      0.28      0.29       112\n",
      "\n"
     ]
    }
   ],
   "source": [
    "print(\"EVALUATION ON TESTING DATA\")\n",
    "print(classification_report(testLabels, predictions))"
   ]
  },
  {
   "cell_type": "code",
   "execution_count": 28,
   "metadata": {},
   "outputs": [],
   "source": [
    "cm=confusion_matrix(testLabels,predictions)"
   ]
  },
  {
   "cell_type": "code",
   "execution_count": 29,
   "metadata": {},
   "outputs": [
    {
     "name": "stdout",
     "output_type": "stream",
     "text": [
      "Confusion matrix, without normalization\n"
     ]
    },
    {
     "data": {
      "image/png": "[encoded data removed]",
      "text/plain": [
       "<matplotlib.figure.Figure at 0x7f125bf96c18>"
      ]
     },
     "metadata": {},
     "output_type": "display_data"
    }
   ],
   "source": [
    "plot_confusion_matrix(cm, list(range(0, 10)), cmap=plt.cm.Blues)"
   ]
  },
  {
   "cell_type": "code",
   "execution_count": null,
   "metadata": {},
   "outputs": [],
   "source": []
  }
 ],
 "metadata": {
  "kernelspec": {
   "display_name": "Python 3",
   "language": "python",
   "name": "python3"
  },
  "language_info": {
   "codemirror_mode": {
    "name": "ipython",
    "version": 3
   },
   "file_extension": ".py",
   "mimetype": "text/x-python",
   "name": "python",
   "nbconvert_exporter": "python",
   "pygments_lexer": "ipython3",
   "version": "3.6.3"
  }
 },
 "nbformat": 4,
 "nbformat_minor": 2
}
